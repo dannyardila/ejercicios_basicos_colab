{
  "nbformat": 4,
  "nbformat_minor": 0,
  "metadata": {
    "colab": {
      "provenance": [],
      "authorship_tag": "ABX9TyONJy4OeI6Nyug6LaRKobCF",
      "include_colab_link": true
    },
    "kernelspec": {
      "name": "python3",
      "display_name": "Python 3"
    },
    "language_info": {
      "name": "python"
    }
  },
  "cells": [
    {
      "cell_type": "markdown",
      "metadata": {
        "id": "view-in-github",
        "colab_type": "text"
      },
      "source": [
        "<a href=\"https://colab.research.google.com/github/dannyardila/ejercicios_basicos_colab/blob/main/ejercicios_basicos.ipynb\" target=\"_parent\"><img src=\"https://colab.research.google.com/assets/colab-badge.svg\" alt=\"Open In Colab\"/></a>"
      ]
    },
    {
      "cell_type": "code",
      "execution_count": null,
      "metadata": {
        "id": "ycbkqgeXXEak"
      },
      "outputs": [],
      "source": [
        "\n",
        "\n",
        "\n",
        "\n"
      ]
    },
    {
      "cell_type": "markdown",
      "source": [
        "# Ejercicios basicos python\n",
        "\n",
        "1. Suma de dos numeros\n",
        "2. Potencia de un numero"
      ],
      "metadata": {
        "id": "Pq8oUP5-ge6C"
      }
    },
    {
      "cell_type": "code",
      "source": [
        "# suma de dos numeros enteros \n",
        "#Proccesing\n",
        "print(\"---------------\")\n",
        "print(\"------SUMA DE DOS ENTEROS------\")\n",
        "print(\"---------------\")\n",
        "\n",
        "\n",
        "# Input\n",
        "x = int(input(\"Digite el valor de x\"))\n",
        "y = int(input(\"Digite el valor de y\"))\n",
        "\n",
        "\n",
        "\n",
        "z= x + y\n",
        "\n",
        "# output\n",
        "print(\"La suma de\",x,\"+\",y,\" es\", z )"
      ],
      "metadata": {
        "id": "h0mZEInHgfu7"
      },
      "execution_count": null,
      "outputs": []
    },
    {
      "cell_type": "code",
      "source": [
        "#potencia de un numero\n",
        "\n",
        "# Input\n",
        "print(\"---------------\")\n",
        "print(\"------POTENCIA------\")\n",
        "print(\"---------------\")\n",
        "\n",
        "# proccesing\n",
        "x = int(input(\"Digite el valor de x\"))\n",
        "y = int(input(\"Digite el valor de y\"))\n",
        "\n",
        "\n",
        "\n",
        "z= x**y\n",
        "\n",
        "# output\n",
        "print(\"ELEVADO a la\",y,\" es\", z )"
      ],
      "metadata": {
        "id": "tsOmshxck7k9"
      },
      "execution_count": null,
      "outputs": []
    },
    {
      "cell_type": "code",
      "source": [
        "\n"
      ],
      "metadata": {
        "id": "tOw1yoBSi5yP"
      },
      "execution_count": null,
      "outputs": []
    },
    {
      "cell_type": "markdown",
      "source": [],
      "metadata": {
        "id": "dZWRVtRYgc05"
      }
    }
  ]
}